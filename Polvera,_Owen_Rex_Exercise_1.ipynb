{
  "nbformat": 4,
  "nbformat_minor": 0,
  "metadata": {
    "colab": {
      "provenance": [],
      "authorship_tag": "ABX9TyNY9bSGsD7BD9nAN7rmbruR",
      "include_colab_link": true
    },
    "kernelspec": {
      "name": "python3",
      "display_name": "Python 3"
    },
    "language_info": {
      "name": "python"
    }
  },
  "cells": [
    {
      "cell_type": "markdown",
      "metadata": {
        "id": "view-in-github",
        "colab_type": "text"
      },
      "source": [
        "<a href=\"https://colab.research.google.com/github/OwenRexPolvera/PLNG211-QC/blob/main/Polvera%2C_Owen_Rex_Exercise_1.ipynb\" target=\"_parent\"><img src=\"https://colab.research.google.com/assets/colab-badge.svg\" alt=\"Open In Colab\"/></a>"
      ]
    },
    {
      "cell_type": "code",
      "execution_count": 1,
      "metadata": {
        "colab": {
          "base_uri": "https://localhost:8080/"
        },
        "id": "ow6s9qudAxrK",
        "outputId": "dcaedc9d-1dab-4c1c-eaec-e7af629a966b"
      },
      "outputs": [
        {
          "output_type": "stream",
          "name": "stdout",
          "text": [
            "186\n"
          ]
        }
      ],
      "source": [
        "numbers = [26,49,98,87,62,75]\n",
        "#sum of even numbers\n",
        "# 26 + 98 + 62 = 186\n",
        "\n",
        "total = sum([num for num in numbers if(num%2==0)])\n",
        "print(total)"
      ]
    }
  ]
}