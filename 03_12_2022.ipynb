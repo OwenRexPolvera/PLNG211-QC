{
  "nbformat": 4,
  "nbformat_minor": 0,
  "metadata": {
    "colab": {
      "provenance": [],
      "authorship_tag": "ABX9TyP6nG2PF71CaDEAmPJNps7D",
      "include_colab_link": true
    },
    "kernelspec": {
      "name": "python3",
      "display_name": "Python 3"
    },
    "language_info": {
      "name": "python"
    }
  },
  "cells": [
    {
      "cell_type": "markdown",
      "metadata": {
        "id": "view-in-github",
        "colab_type": "text"
      },
      "source": [
        "<a href=\"https://colab.research.google.com/github/OwenRexPolvera/PLNG211-QC/blob/main/03_12_2022.ipynb\" target=\"_parent\"><img src=\"https://colab.research.google.com/assets/colab-badge.svg\" alt=\"Open In Colab\"/></a>"
      ]
    },
    {
      "cell_type": "code",
      "execution_count": 1,
      "metadata": {
        "colab": {
          "base_uri": "https://localhost:8080/",
          "height": 269
        },
        "id": "BYYU7O3Ye2z9",
        "outputId": "60e28720-d9f6-444c-9b2e-971550becd09"
      },
      "outputs": [
        {
          "name": "stdout",
          "output_type": "stream",
          "text": [
            "Enter width of rectangle: 3\n",
            "Enter length of rectangle: 3\n"
          ]
        },
        {
          "output_type": "error",
          "ename": "TypeError",
          "evalue": "ignored",
          "traceback": [
            "\u001b[0;31m---------------------------------------------------------------------------\u001b[0m",
            "\u001b[0;31mTypeError\u001b[0m                                 Traceback (most recent call last)",
            "\u001b[0;32m<ipython-input-1-9eae51c1dcec>\u001b[0m in \u001b[0;36m<module>\u001b[0;34m\u001b[0m\n\u001b[1;32m     13\u001b[0m \u001b[0mrecLength\u001b[0m \u001b[0;34m=\u001b[0m \u001b[0mint\u001b[0m\u001b[0;34m(\u001b[0m\u001b[0minput\u001b[0m\u001b[0;34m(\u001b[0m\u001b[0;34m\"Enter length of rectangle: \"\u001b[0m\u001b[0;34m)\u001b[0m\u001b[0;34m)\u001b[0m\u001b[0;34m\u001b[0m\u001b[0;34m\u001b[0m\u001b[0m\n\u001b[1;32m     14\u001b[0m \u001b[0;34m\u001b[0m\u001b[0m\n\u001b[0;32m---> 15\u001b[0;31m \u001b[0mrectangleAreaPerim\u001b[0m \u001b[0;34m=\u001b[0m \u001b[0mrectangle\u001b[0m\u001b[0;34m(\u001b[0m\u001b[0mrecWidth\u001b[0m\u001b[0;34m,\u001b[0m \u001b[0mrecLength\u001b[0m\u001b[0;34m)\u001b[0m\u001b[0;34m\u001b[0m\u001b[0;34m\u001b[0m\u001b[0m\n\u001b[0m\u001b[1;32m     16\u001b[0m \u001b[0;34m\u001b[0m\u001b[0m\n\u001b[1;32m     17\u001b[0m \u001b[0mprint\u001b[0m\u001b[0;34m(\u001b[0m\u001b[0;34m\"The area of rectangle is :\"\u001b[0m\u001b[0;34m,\u001b[0m \u001b[0mrectangleAreaPerim\u001b[0m\u001b[0;34m.\u001b[0m\u001b[0marea\u001b[0m\u001b[0;34m(\u001b[0m\u001b[0;34m)\u001b[0m\u001b[0;34m)\u001b[0m\u001b[0;34m\u001b[0m\u001b[0;34m\u001b[0m\u001b[0m\n",
            "\u001b[0;31mTypeError\u001b[0m: rectangle() takes no arguments"
          ]
        }
      ],
      "source": [
        "class rectangle():\n",
        "    def init(rec, width, length):\n",
        "        rec.width = width\n",
        "        rec.length = length\n",
        "\n",
        "    def perimeter(rec):\n",
        "      return (rec.width + rec.length) * 2\n",
        "\n",
        "    def area(rec):\n",
        "        return rec.width * rec.length\n",
        "\n",
        "recWidth = int(input(\"Enter width of rectangle: \"))\n",
        "recLength = int(input(\"Enter length of rectangle: \"))\n",
        "\n",
        "rectangleAreaPerim = rectangle(recWidth, recLength)\n",
        "\n",
        "print(\"The area of rectangle is :\", rectangleAreaPerim.area())\n",
        "print(\"The perimeter of rectangle is :\", rectangleAreaPerim.perimeter())"
      ]
    },
    {
      "cell_type": "code",
      "source": [
        "class rectangle():\n",
        "    def __init__(rec,width,length):\n",
        "        rec.width = width\n",
        "        rec.length = length\n",
        "\n",
        "    def perimeter(rec):\n",
        "        return(rec.width + rec.length)2\n",
        "\n",
        "    def area(rec):\n",
        "        return rec.width rec.length\n",
        "\n",
        "recWidth = int(input(\"Width of rectangle: \"))\n",
        "recLength = int(input(\"Length of rectangle: \"))\n",
        "\n",
        "rectangleAreaPerimeter = rectangle(recWidth,recLength)\n",
        "\n",
        "print(\"Area of rectangle: \",rectangleAreaPerimeter.area())\n",
        "print(\"Perimeter of rectangle: \", rectangleAreaPerimeter.perimeter())"
      ],
      "metadata": {
        "colab": {
          "base_uri": "https://localhost:8080/",
          "height": 130
        },
        "id": "cfNSKEfGfBhg",
        "outputId": "1b73e94c-cfa1-4aad-dc34-c5949cc1e067"
      },
      "execution_count": 2,
      "outputs": [
        {
          "output_type": "error",
          "ename": "SyntaxError",
          "evalue": "ignored",
          "traceback": [
            "\u001b[0;36m  File \u001b[0;32m\"<ipython-input-2-cc3a7e41995f>\"\u001b[0;36m, line \u001b[0;32m7\u001b[0m\n\u001b[0;31m    return(rec.width + rec.length)2\u001b[0m\n\u001b[0m                                  ^\u001b[0m\n\u001b[0;31mSyntaxError\u001b[0m\u001b[0;31m:\u001b[0m invalid syntax\n"
          ]
        }
      ]
    },
    {
      "cell_type": "code",
      "source": [
        "class Person:\n",
        "  def init(self,name,age):\n",
        "    self.name = name                 #attributes\n",
        "    self.age = age\n",
        "\n",
        "class Student(Person):               #Subclass that will inherit the parent class(?)\n",
        "  pass\n",
        "\n",
        "class Teacher(Person):\n",
        "  pass\n",
        "\n",
        "person1 = Person(\"Ana\",36)           #instantation, or behavior of the methods/add a value to an attribute\n",
        "print(\"The name of the person is:\",person1.name) \n",
        "print(\"The age of the person is:\",person1.age)\n",
        "\n",
        "person2 = Student(\"Lino\",32)         #inheritance\n",
        "print(\"\\nThe name of the student is:\",person2.name)\n",
        "print(\"The age of the student is:\",person2.age)\n",
        "\n",
        "person3 = Teacher(\"Maria\",39)\n",
        "print(\"\\nThe name of the teacher is:\",person3.name)\n",
        "print(\"The age of the teacher is:\",person3.age)"
      ],
      "metadata": {
        "id": "4xWnZZSifLWf"
      },
      "execution_count": null,
      "outputs": []
    }
  ]
}